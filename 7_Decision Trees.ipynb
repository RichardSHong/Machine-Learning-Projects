{
 "cells": [
  {
   "cell_type": "code",
   "execution_count": 1,
   "metadata": {},
   "outputs": [],
   "source": [
    "import numpy as np\n",
    "from math import log"
   ]
  },
  {
   "cell_type": "code",
   "execution_count": 2,
   "metadata": {},
   "outputs": [
    {
     "name": "stdout",
     "output_type": "stream",
     "text": [
      "(3067, 57)\n"
     ]
    }
   ],
   "source": [
    "filename = \"./spambase(1).data\"\n",
    "data = np.loadtxt(filename, delimiter=\",\")\n",
    "\n",
    "import random\n",
    "\n",
    "np.random.seed(0)\n",
    "np.random.shuffle(data)\n",
    "\n",
    "a= data.shape\n",
    "\n",
    "X= data[:,:-1]\n",
    "Y= data[:, -1]\n",
    "\n",
    "\n",
    "\n",
    "X_train = X[:(round(2/3*a[0]))]\n",
    "X_test = X[(round(2/3*a[0])):]\n",
    "Y_train = Y[:(round(2/3*a[0]))]\n",
    "Y_test = Y[(round(2/3*a[0])):]\n",
    "\n",
    "print(np.shape(X_train))\n",
    "\n",
    "YTrain = np.reshape(Y_train, (-1,1))\n",
    "YTest = np.reshape(Y_test, (-1,1))\n",
    "\n",
    "#Standardize the X_train\n",
    "mean = np.mean(X_train, axis=0)\n",
    "std = np.std(X_train, axis=0, ddof=1)\n",
    "std_X_train = (X_train-mean)/std\n",
    "\n",
    "#Standardize the X_test\n",
    "std_X_test =  (X_test-mean)/std\n",
    "\n",
    "Train = np.hstack((std_X_train, YTrain))\n",
    "Test = np.hstack((std_X_test, YTest))"
   ]
  },
  {
   "cell_type": "code",
   "execution_count": 3,
   "metadata": {},
   "outputs": [],
   "source": [
    "# make binary data of Train\n",
    "\n",
    "std_X_train = np.where(std_X_train <= 0, 0, std_X_train)\n",
    "std_X_train = np.where(std_X_train > 0, 1, std_X_train)\n",
    "\n",
    "training_data = np.hstack((std_X_train, YTrain))"
   ]
  },
  {
   "cell_type": "code",
   "execution_count": 4,
   "metadata": {},
   "outputs": [],
   "source": [
    "# make binary data of Testing\n",
    "\n",
    "std_X_test = np.where(std_X_test <= 0, 0, std_X_test)\n",
    "std_X_test = np.where(std_X_test > 0, 1, std_X_test)\n",
    "\n",
    "testing_data = np.hstack((std_X_test, YTest))"
   ]
  },
  {
   "cell_type": "code",
   "execution_count": 5,
   "metadata": {},
   "outputs": [],
   "source": [
    "def YCounts(data):\n",
    "    Y_count = {}  \n",
    "    for i in data:\n",
    "        Y = i[-1]\n",
    "        if Y not in Y_count:\n",
    "            Y_count[Y] = 0\n",
    "        Y_count[Y] += 1\n",
    "    return Y_count"
   ]
  },
  {
   "cell_type": "code",
   "execution_count": 6,
   "metadata": {},
   "outputs": [
    {
     "name": "stdout",
     "output_type": "stream",
     "text": [
      "{1.0: 1237, 0.0: 1830}\n"
     ]
    }
   ],
   "source": [
    "print(YCounts(training_data))"
   ]
  },
  {
   "cell_type": "code",
   "execution_count": 7,
   "metadata": {},
   "outputs": [],
   "source": [
    "def entropy(data):\n",
    "    counts = YCounts(data)\n",
    "    entropy = 1\n",
    "    for i in counts:\n",
    "        P = counts[i] / float(len(data))\n",
    "        entropy -= P * log(P,2)\n",
    "    return entropy"
   ]
  },
  {
   "cell_type": "code",
   "execution_count": 8,
   "metadata": {},
   "outputs": [
    {
     "data": {
      "text/plain": [
       "1.9728628061025462"
      ]
     },
     "execution_count": 8,
     "metadata": {},
     "output_type": "execute_result"
    }
   ],
   "source": [
    "entropy(training_data)"
   ]
  },
  {
   "cell_type": "code",
   "execution_count": 9,
   "metadata": {},
   "outputs": [],
   "source": [
    "def left_right(data, attri, value):\n",
    "    left =[]\n",
    "    right =[]\n",
    "    for i in data:\n",
    "        if i[attri] >= value:\n",
    "            left.append(i) \n",
    "        else:\n",
    "            right.append(i)\n",
    "\n",
    "    return left, right"
   ]
  },
  {
   "cell_type": "code",
   "execution_count": 10,
   "metadata": {},
   "outputs": [],
   "source": [
    "def IG(data, attri, value):\n",
    "\n",
    "    left = left_right(data, attri, value)[0]\n",
    "    right = left_right(data, attri, value)[1]\n",
    "    \n",
    "    p = float(len(left)) / (len(left) + len(right))\n",
    "\n",
    "    return ((entropy(data) - p * entropy(left) - (1 - p) * entropy(right)),left,right)"
   ]
  },
  {
   "cell_type": "code",
   "execution_count": 11,
   "metadata": {},
   "outputs": [],
   "source": [
    "class DTL:\n",
    "    attribute = None \n",
    "    value = None \n",
    "    left = None\n",
    "    right = None\n",
    "    IG = IG\n",
    "    Y_count = None\n",
    "\n",
    "\n",
    "    def __init__(self, attribute = None, value = None, left = None, right = None, IG=IG, Y_count = None):\n",
    "        self.attribute = attribute\n",
    "        self.value = value\n",
    "        self.left = left\n",
    "        self.right = right\n",
    "        self.Y_count = Y_count\n",
    "        self.IG = IG\n",
    "\n",
    "    def tree_building(self, data):\n",
    "        best_info_gain = 0\n",
    "        best_attri = None\n",
    "        best_left_right = None\n",
    "        \n",
    "        for attri in range(len(X[0])):\n",
    "            for i in [0,1]:\n",
    "                info_gain = self.IG(data, attri, i)[0]\n",
    "                L = self.IG(data, attri, i)[1]\n",
    "                R = self.IG(data, attri, i)[2]\n",
    "                if info_gain > best_info_gain:\n",
    "                    best_info_gain = info_gain\n",
    "                    best_attri = (attri, i)\n",
    "                    best_left_right = (L, R)\n",
    "\n",
    "        if best_info_gain > 0:\n",
    "            left = self.tree_building(best_left_right[0])\n",
    "            right = self.tree_building(best_left_right[1])\n",
    "            return DTL(attribute = best_attri[0], value = best_attri[1], left = left, right = right)\n",
    "        else:\n",
    "            return DTL(Y_count = YCounts(data))\n",
    "        \n",
    "    \n",
    "    def classifier(self, decision_tree, testing):\n",
    "        \n",
    "        if decision_tree.Y_count == None:\n",
    "            node = None            \n",
    "            if testing[decision_tree.attribute] >= decision_tree.value: \n",
    "                node = decision_tree.left\n",
    "            else : node = decision_tree.right  \n",
    "            return self.classifier(node, testing)\n",
    "            \n",
    "        else:   \n",
    "            return list(decision_tree.Y_count.keys())[0]"
   ]
  },
  {
   "cell_type": "code",
   "execution_count": 12,
   "metadata": {},
   "outputs": [],
   "source": [
    "trained_decision_tree = DTL().tree_building(training_data)"
   ]
  },
  {
   "cell_type": "code",
   "execution_count": 13,
   "metadata": {},
   "outputs": [],
   "source": [
    "Y_predicted = []\n",
    "for i in testing_data:\n",
    "    kk = DTL().classifier(trained_decision_tree, i)\n",
    "    Y_predicted.append(kk)"
   ]
  },
  {
   "cell_type": "code",
   "execution_count": 14,
   "metadata": {},
   "outputs": [],
   "source": [
    "Y_predicted = np.array(Y_predicted)\n",
    "Y_predicted =np.reshape(Y_predicted, (-1,1))\n",
    "Y_test_Y_predicted = np.hstack((YTest, Y_predicted))"
   ]
  },
  {
   "cell_type": "code",
   "execution_count": 15,
   "metadata": {},
   "outputs": [
    {
     "name": "stdout",
     "output_type": "stream",
     "text": [
      "TP:  866\n",
      "FP:  57\n",
      "FN:  92\n",
      "TN:  519\n",
      "Precision:  0.9382448537378115\n",
      "Recall:  0.9039665970772442\n",
      "F_measure:  0.9207868155236577\n",
      "Accuracy:  0.9028683181225554\n"
     ]
    }
   ],
   "source": [
    "TP=0\n",
    "FP=0\n",
    "FN=0\n",
    "TN=0\n",
    "for a,b in Y_test_Y_predicted:\n",
    "    if a==0 and b==0:\n",
    "        TP+=1\n",
    "    elif a==0 and b==1:\n",
    "        FN+=1\n",
    "    elif a==1 and b==0:\n",
    "        FP+=1\n",
    "    else:\n",
    "        TN+=1\n",
    "\n",
    "\n",
    "print(\"TP: \", TP)\n",
    "print(\"FP: \", FP)\n",
    "print(\"FN: \", FN)\n",
    "print(\"TN: \", TN)\n",
    "\n",
    "Accuracy = (TP+TN)/(TP+FP+FN+TN)\n",
    "Precision = TP/(TP+FP)\n",
    "Recall = TP/(TP+FN)\n",
    "F_measure = (2*Precision*Recall)/(Precision+Recall)\n",
    "\n",
    "print(\"Precision: \", Precision)\n",
    "print(\"Recall: \", Recall)\n",
    "print(\"F_measure: \", F_measure)\n",
    "print(\"Accuracy: \", Accuracy)"
   ]
  }
 ],
 "metadata": {
  "kernelspec": {
   "display_name": "Python 3",
   "language": "python",
   "name": "python3"
  },
  "language_info": {
   "codemirror_mode": {
    "name": "ipython",
    "version": 3
   },
   "file_extension": ".py",
   "mimetype": "text/x-python",
   "name": "python",
   "nbconvert_exporter": "python",
   "pygments_lexer": "ipython3",
   "version": "3.7.2"
  }
 },
 "nbformat": 4,
 "nbformat_minor": 2
}
