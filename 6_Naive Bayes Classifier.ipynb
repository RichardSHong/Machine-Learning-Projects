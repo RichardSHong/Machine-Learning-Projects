{
 "cells": [
  {
   "cell_type": "code",
   "execution_count": 1,
   "metadata": {},
   "outputs": [],
   "source": [
    "import numpy as np\n",
    "from scipy.stats import norm"
   ]
  },
  {
   "cell_type": "code",
   "execution_count": 2,
   "metadata": {},
   "outputs": [],
   "source": [
    "filename = \"./spambase(1).data\"\n",
    "data = np.loadtxt(filename, delimiter=\",\")"
   ]
  },
  {
   "cell_type": "code",
   "execution_count": 3,
   "metadata": {},
   "outputs": [],
   "source": [
    "import random\n",
    "np.random.seed(0)\n",
    "np.random.shuffle(data)"
   ]
  },
  {
   "cell_type": "code",
   "execution_count": 4,
   "metadata": {},
   "outputs": [],
   "source": [
    "a= data.shape\n",
    "\n",
    "X= data[:,:-1]\n",
    "Y= data[:, -1]\n",
    "\n",
    "\n",
    "\n",
    "Train = data[:(round(2/3*a[0]))]\n",
    "Test = data[(round(2/3*a[0])):]\n",
    "\n",
    "X_train = X[:(round(2/3*a[0]))]\n",
    "X_test = X[(round(2/3*a[0])):]\n",
    "Y_train = Y[:(round(2/3*a[0]))]\n",
    "Y_test = Y[(round(2/3*a[0])):]\n",
    "\n",
    "\n",
    "\n",
    "#reshape Y\n",
    "YTrain = np.reshape(Y_train, (-1,1))\n",
    "YTest = np.reshape(Y_test, (-1,1))\n",
    "\n",
    "\n",
    "# array\n",
    "Train = np.array(Train)\n",
    "Test = np.array(Test)\n",
    "X_train = np.array(X_train)\n",
    "X_test = np.array(X_test)\n",
    "Y_train = np.array(Y_train)\n",
    "Y_test = np.array(Y_test)\n",
    "\n"
   ]
  },
  {
   "cell_type": "code",
   "execution_count": 5,
   "metadata": {},
   "outputs": [],
   "source": [
    "#Standardize Training Data\n",
    "mean = np.mean(X_train, axis=0)\n",
    "std = np.std(X_train, axis=0, ddof=1)\n",
    "Xtrain_std = (X_train - mean)/std"
   ]
  },
  {
   "cell_type": "code",
   "execution_count": 6,
   "metadata": {},
   "outputs": [],
   "source": [
    "XTrain_std_Y = np.hstack((Xtrain_std, YTrain))"
   ]
  },
  {
   "cell_type": "code",
   "execution_count": 7,
   "metadata": {},
   "outputs": [],
   "source": [
    "Train_spam = []\n",
    "Train_nonspam = []\n",
    "\n",
    "for i in XTrain_std_Y:\n",
    "    if i[-1] == 1:\n",
    "        Train_spam.append(i)\n",
    "    \n",
    "    else:\n",
    "        Train_nonspam.append(i)\n",
    "\n",
    "Train_spam = np.array(Train_spam)\n",
    "Train_nonspam = np.array(Train_nonspam)\n",
    "\n",
    "Train_spam_no_Y = Train_spam[:,:-1]\n",
    "Train_nonspam_no_Y =Train_nonspam[:,:-1]"
   ]
  },
  {
   "cell_type": "code",
   "execution_count": 8,
   "metadata": {},
   "outputs": [],
   "source": [
    "#mean and std of spam\n",
    "mean_XTrain_spam = np.mean(Train_spam_no_Y,axis=0)\n",
    "std_XTrain_spam = np.std(Train_spam_no_Y, axis=0, ddof=1)\n",
    "\n",
    "#mean and std of nonspam\n",
    "mean_XTrain_nonspam = np.mean(Train_nonspam_no_Y,axis=0)\n",
    "std_XTrain_nonspam = np.std(Train_nonspam_no_Y, axis=0, ddof=1)"
   ]
  },
  {
   "cell_type": "code",
   "execution_count": 9,
   "metadata": {},
   "outputs": [
    {
     "name": "stdout",
     "output_type": "stream",
     "text": [
      "0.5966742745353766\n"
     ]
    }
   ],
   "source": [
    "#Priors\n",
    "probability_Spam = np.shape(Train_spam)[0]/ np.shape(Train)[0]\n",
    "probability_Non_S = np.shape(Train_nonspam)[0]/ np.shape(Train)[0]\n",
    "print(probability_Non_S)"
   ]
  },
  {
   "cell_type": "code",
   "execution_count": 10,
   "metadata": {},
   "outputs": [],
   "source": [
    "#Standardize Xtest Values\n",
    "Xtest_std = (X_test - mean)/std\n",
    "Xtest_std = np.array(Xtest_std)\n"
   ]
  },
  {
   "cell_type": "code",
   "execution_count": 11,
   "metadata": {},
   "outputs": [
    {
     "name": "stdout",
     "output_type": "stream",
     "text": [
      "TP:  625\n",
      "FP:  12\n",
      "FN:  333\n",
      "TN:  564\n",
      "Precision:  0.9811616954474097\n",
      "Recall:  0.6524008350730689\n",
      "F_measure:  0.7836990595611285\n",
      "Accuracy:  0.7750977835723598\n"
     ]
    }
   ],
   "source": [
    "import sys\n",
    "ep = sys.float_info.epsilon\n",
    "\n",
    "Y_predicted = []\n",
    "for i in Xtest_std:\n",
    "    spam = norm.pdf(i,mean_XTrain_spam,std_XTrain_spam)+1e-200\n",
    "    Non_spam =  norm.pdf(i,mean_XTrain_nonspam,std_XTrain_nonspam)+1e-200\n",
    "    \n",
    "    \n",
    "    spam = np.log(spam)\n",
    "    Non_spam = np.log(Non_spam)\n",
    "\n",
    "\n",
    "#log\n",
    "    spam_p_YTest = np.sum(spam)+np.log(probability_Spam)\n",
    "    non_spam_p_YTest = np.sum(Non_spam)+np.log(probability_Non_S)\n",
    "    \n",
    "    \n",
    "    if spam_p_YTest < non_spam_p_YTest:\n",
    "        Y_predicted.append(0)\n",
    "    else:\n",
    "        Y_predicted.append(1)\n",
    "                \n",
    "Y_predicted = np.array(Y_predicted)\n",
    "Y_predicted =np.reshape(Y_predicted, (-1,1))\n",
    "Y_test_Y_predicted = np.hstack((YTest, Y_predicted))\n",
    "\n",
    "\n",
    "\n",
    "TP=0\n",
    "FP=0\n",
    "FN=0\n",
    "TN=0\n",
    "for a,b in Y_test_Y_predicted:\n",
    "    if a==0 and b==0:\n",
    "        TP+=1\n",
    "    elif a==0 and b==1:\n",
    "        FN+=1\n",
    "    elif a==1 and b==0:\n",
    "        FP+=1\n",
    "    else:\n",
    "        TN+=1\n",
    "\n",
    "     \n",
    "            \n",
    "print(\"TP: \", TP)\n",
    "print(\"FP: \", FP)\n",
    "print(\"FN: \", FN)\n",
    "print(\"TN: \", TN)\n",
    "\n",
    "Accuracy = (TP+TN)/(TP+FP+FN+TN)\n",
    "Precision = TP/(TP+FP)\n",
    "Recall = TP/(TP+FN)\n",
    "F_measure = (2*Precision*Recall)/(Precision+Recall)\n",
    "\n",
    "print(\"Precision: \", Precision)\n",
    "print(\"Recall: \", Recall)\n",
    "print(\"F_measure: \", F_measure)\n",
    "print(\"Accuracy: \", Accuracy)"
   ]
  }
 ],
 "metadata": {
  "kernelspec": {
   "display_name": "Python 3",
   "language": "python",
   "name": "python3"
  },
  "language_info": {
   "codemirror_mode": {
    "name": "ipython",
    "version": 3
   },
   "file_extension": ".py",
   "mimetype": "text/x-python",
   "name": "python",
   "nbconvert_exporter": "python",
   "pygments_lexer": "ipython3",
   "version": "3.7.2"
  }
 },
 "nbformat": 4,
 "nbformat_minor": 2
}
