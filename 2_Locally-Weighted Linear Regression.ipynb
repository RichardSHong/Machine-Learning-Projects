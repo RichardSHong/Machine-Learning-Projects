{
 "cells": [
  {
   "cell_type": "code",
   "execution_count": 2,
   "metadata": {},
   "outputs": [],
   "source": [
    "import numpy as np \n",
    "from math import exp\n",
    "\n",
    "\n",
    "# 1. Reads in the data, ignoring the first row (header) and first column (index).\n",
    "filename = \"./x06Simple.csv\"\n",
    "data = np.loadtxt(filename, delimiter=\",\", skiprows=1)\n",
    "\n",
    "# 2. Randomizes the data\n",
    "\n",
    "import random\n",
    "\n",
    "\n",
    "datanp = np.array(data).astype(int)\n",
    "\n",
    "\n",
    "np.random.seed(0)\n",
    "np.random.shuffle(datanp)\n",
    "\n",
    "\n",
    "X = [datanp[:,1],datanp[:,2]]\n",
    "X=np.transpose(np.array(X))\n",
    "Y = np.array(datanp[:,3])\n",
    "\n",
    "#Selects the first 2/3 (round up) of the data for training and the remaining for testing\n",
    "a= datanp.shape\n",
    "\n",
    "\n",
    "training_X = X[:(round(2/3*a[0]))]\n",
    "testing_X = X[(round(2/3*a[0])):]\n",
    "training_Y = Y[:(round(2/3*a[0]))]\n",
    "testing_Y = Y[(round(2/3*a[0])):]\n",
    "\n",
    "\n",
    "#Standardize the data\n",
    "mean = np.mean(training_X, axis=0)\n",
    "std = np.std(training_X, axis=0, ddof=1)\n",
    "std_training_X = (training_X-mean)/std\n",
    "\n",
    "#Adding Bias on training X\n",
    "std_XTrain_bias=[]\n",
    "for i in std_training_X:\n",
    "    std_XTrain_bias.append([1,i[0],i[1]])\n",
    "std_XTrain_bias = np.array(std_XTrain_bias)\n",
    "\n",
    "\n",
    "#Adding Bias on testing X\n",
    "std_testing_data = (testing_X-mean)/std\n",
    "\n",
    "std_XTest_bias=[]\n",
    "for i in std_testing_data:\n",
    "    std_XTest_bias.append([1,i[0],i[1]])\n",
    "\n",
    "std_XTest_bias = np.array(std_XTest_bias)"
   ]
  },
  {
   "cell_type": "code",
   "execution_count": null,
   "metadata": {
    "scrolled": true
   },
   "outputs": [],
   "source": []
  },
  {
   "cell_type": "code",
   "execution_count": 8,
   "metadata": {},
   "outputs": [
    {
     "name": "stdout",
     "output_type": "stream",
     "text": [
      "(15, 3)\n",
      "323.11854936067004\n"
     ]
    }
   ],
   "source": [
    "Stest = std_XTest_bias.shape\n",
    "Strain = std_XTrain_bias.shape\n",
    "\n",
    "print(Stest)\n",
    "\n",
    "\n",
    "#print(len(std_XTest_bias))\n",
    "\n",
    "k=1\n",
    "pred = 0\n",
    "\n",
    "for i in range(len(std_XTest_bias)):\n",
    "    xTest = std_XTest_bias[i, 1:]\n",
    "    XXTest = std_XTest_bias[i]\n",
    "    #print(xTest)\n",
    "    W_=[]\n",
    "    for j in range(len(std_XTrain_bias)):\n",
    "        xTrain = std_XTrain_bias[j, 1:]\n",
    "        #print(xTrain)\n",
    "        distance = -sum(abs((xTest - xTrain)))\n",
    "        WW = np.exp(distance/(k**2))  \n",
    "        W_.append(WW)\n",
    "\n",
    "\n",
    "    W=np.diag(W_)\n",
    "\n",
    "    def getThetaLWLR(X,Y):\n",
    "        theta = np.linalg.inv(X.T@W@X)@X.T@W@Y\n",
    "        return theta\n",
    "\n",
    "    theta = getThetaLWLR(std_XTrain_bias, training_Y)\n",
    "\n",
    "    #print(theta)\n",
    "\n",
    "    def predict(theta, X):\n",
    "        return np.dot(X, theta)\n",
    "\n",
    "    Y_hat = predict(theta, XXTest)\n",
    "    #print(Y_hat)\n",
    "\n",
    "    from sklearn.metrics import mean_squared_error\n",
    "    from math import sqrt\n",
    "\n",
    "    #print(np.shape(W))\n",
    "    #RMSE = sqrt(mean_squared_error(testing_Y, Y_hat))\n",
    "    \n",
    "    pred += (testing_Y[i]-Y_hat)**2\n",
    "print(sqrt(pred/(Stest[0])))"
   ]
  },
  {
   "cell_type": "code",
   "execution_count": 18,
   "metadata": {},
   "outputs": [],
   "source": []
  },
  {
   "cell_type": "code",
   "execution_count": null,
   "metadata": {},
   "outputs": [],
   "source": []
  }
 ],
 "metadata": {
  "kernelspec": {
   "display_name": "Python 3",
   "language": "python",
   "name": "python3"
  },
  "language_info": {
   "codemirror_mode": {
    "name": "ipython",
    "version": 3
   },
   "file_extension": ".py",
   "mimetype": "text/x-python",
   "name": "python",
   "nbconvert_exporter": "python",
   "pygments_lexer": "ipython3",
   "version": "3.7.9"
  }
 },
 "nbformat": 4,
 "nbformat_minor": 4
}
